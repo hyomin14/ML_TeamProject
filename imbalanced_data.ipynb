{
  "nbformat": 4,
  "nbformat_minor": 0,
  "metadata": {
    "colab": {
      "name": "imbalanced_data.ipynb",
      "provenance": [],
      "collapsed_sections": [],
      "mount_file_id": "1Cshg-qgMnrc6ukJDhyvRjq-C4V_YcYMs",
      "authorship_tag": "ABX9TyPxpvx37MK39IynLOYKEI4q",
      "include_colab_link": true
    },
    "kernelspec": {
      "name": "python3",
      "display_name": "Python 3"
    },
    "language_info": {
      "name": "python"
    }
  },
  "cells": [
    {
      "cell_type": "markdown",
      "metadata": {
        "id": "view-in-github",
        "colab_type": "text"
      },
      "source": [
        "<a href=\"https://colab.research.google.com/github/hyomin14/ML_TeamProject/blob/main/imbalanced_data.ipynb\" target=\"_parent\"><img src=\"https://colab.research.google.com/assets/colab-badge.svg\" alt=\"Open In Colab\"/></a>"
      ]
    },
    {
      "cell_type": "code",
      "execution_count": null,
      "metadata": {
        "colab": {
          "base_uri": "https://localhost:8080/"
        },
        "id": "RK35yzsy6h7G",
        "outputId": "dc196dca-d1a6-48ca-f77b-f4770269377c"
      },
      "outputs": [
        {
          "output_type": "stream",
          "name": "stdout",
          "text": [
            "<class 'pandas.core.frame.DataFrame'>\n",
            "Int64Index: 301717 entries, 0 to 319794\n",
            "Data columns (total 18 columns):\n",
            " #   Column            Non-Null Count   Dtype  \n",
            "---  ------            --------------   -----  \n",
            " 0   HeartDisease      301717 non-null  object \n",
            " 1   BMI               301717 non-null  float64\n",
            " 2   Smoking           301717 non-null  object \n",
            " 3   AlcoholDrinking   301717 non-null  object \n",
            " 4   Stroke            301717 non-null  object \n",
            " 5   PhysicalHealth    301717 non-null  float64\n",
            " 6   MentalHealth      301717 non-null  float64\n",
            " 7   DiffWalking       301717 non-null  object \n",
            " 8   Sex               301717 non-null  object \n",
            " 9   AgeCategory       301717 non-null  object \n",
            " 10  Race              301717 non-null  object \n",
            " 11  Diabetic          301717 non-null  object \n",
            " 12  PhysicalActivity  301717 non-null  object \n",
            " 13  GenHealth         301717 non-null  object \n",
            " 14  SleepTime         301717 non-null  float64\n",
            " 15  Asthma            301717 non-null  object \n",
            " 16  KidneyDisease     301717 non-null  object \n",
            " 17  SkinCancer        301717 non-null  object \n",
            "dtypes: float64(4), object(14)\n",
            "memory usage: 43.7+ MB\n"
          ]
        }
      ],
      "source": [
        "import pandas as pd\n",
        "df = pd.read_csv('/content/drive/MyDrive/MachineLearning/heart_2020_cleaned.csv')\n",
        "df = df.drop_duplicates()\n",
        "df.info()"
      ]
    },
    {
      "cell_type": "markdown",
      "source": [
        "## 전처리"
      ],
      "metadata": {
        "id": "3sjPc4ufht6p"
      }
    },
    {
      "cell_type": "code",
      "source": [
        "categorical_col = ['HeartDisease', 'Smoking', 'AlcoholDrinking', 'Stroke', 'DiffWalking', 'PhysicalActivity', 'Asthma', 'KidneyDisease', 'SkinCancer']\n",
        "for col in categorical_col:\n",
        "    df[col] = df[col].map({'Yes': 1, 'No': 0})\n",
        "df['Sex'] = df['Sex'].map({'Female': 0, 'Male': 1})\n",
        "df['GenHealth'] = df['GenHealth'].map({'Poor': 0, 'Fair': 1, 'Good' : 2, 'Very good' : 3, 'Excellent' : 4})\n",
        "\n",
        "df.loc[df['Diabetic']=='Yes (during pregnancy)', 'Diabetic'] = '2'\n",
        "df.loc[df['Diabetic']=='Yes', 'Diabetic'] = '2'\n",
        "df.loc[df['Diabetic']=='No, borderline diabetes', 'Diabetic'] = '1'\n",
        "df.loc[df['Diabetic']=='No', 'Diabetic'] = '0'\n",
        "\n",
        "df['AgeCategory'] = df['AgeCategory'].map(lambda x:x.split('-'))\n",
        "df['AgeCategory'] = df['AgeCategory'].map(lambda x : x[0][:2] if len(x)==1 else x[0])\n",
        "df['AgeCategory'] = df['AgeCategory'].astype('int64')\n",
        "\n",
        "df = pd.get_dummies(df, columns = ['Race'])\n"
      ],
      "metadata": {
        "id": "m1T_UJfvhjxg"
      },
      "execution_count": null,
      "outputs": []
    },
    {
      "cell_type": "code",
      "source": [
        "df.head()"
      ],
      "metadata": {
        "id": "JWPpU7Bc654I",
        "colab": {
          "base_uri": "https://localhost:8080/",
          "height": 334
        },
        "outputId": "042e1a69-757c-4679-97f0-c5aabc516315"
      },
      "execution_count": null,
      "outputs": [
        {
          "output_type": "execute_result",
          "data": {
            "text/plain": [
              "   HeartDisease    BMI  Smoking  AlcoholDrinking  Stroke  PhysicalHealth  \\\n",
              "0             0  16.60        1                0       0             3.0   \n",
              "1             0  20.34        0                0       1             0.0   \n",
              "2             0  26.58        1                0       0            20.0   \n",
              "3             0  24.21        0                0       0             0.0   \n",
              "4             0  23.71        0                0       0            28.0   \n",
              "\n",
              "   MentalHealth  DiffWalking  Sex  AgeCategory  ... SleepTime  Asthma  \\\n",
              "0          30.0            0    0           55  ...       5.0       1   \n",
              "1           0.0            0    0           80  ...       7.0       0   \n",
              "2          30.0            0    1           65  ...       8.0       1   \n",
              "3           0.0            0    0           75  ...       6.0       0   \n",
              "4           0.0            1    0           40  ...       8.0       0   \n",
              "\n",
              "   KidneyDisease  SkinCancer  Race_American Indian/Alaskan Native  Race_Asian  \\\n",
              "0              0           1                                    0           0   \n",
              "1              0           0                                    0           0   \n",
              "2              0           0                                    0           0   \n",
              "3              0           1                                    0           0   \n",
              "4              0           0                                    0           0   \n",
              "\n",
              "   Race_Black  Race_Hispanic  Race_Other  Race_White  \n",
              "0           0              0           0           1  \n",
              "1           0              0           0           1  \n",
              "2           0              0           0           1  \n",
              "3           0              0           0           1  \n",
              "4           0              0           0           1  \n",
              "\n",
              "[5 rows x 23 columns]"
            ],
            "text/html": [
              "\n",
              "  <div id=\"df-1e9e40a2-88a5-47d3-8a4a-593e06c94dbb\">\n",
              "    <div class=\"colab-df-container\">\n",
              "      <div>\n",
              "<style scoped>\n",
              "    .dataframe tbody tr th:only-of-type {\n",
              "        vertical-align: middle;\n",
              "    }\n",
              "\n",
              "    .dataframe tbody tr th {\n",
              "        vertical-align: top;\n",
              "    }\n",
              "\n",
              "    .dataframe thead th {\n",
              "        text-align: right;\n",
              "    }\n",
              "</style>\n",
              "<table border=\"1\" class=\"dataframe\">\n",
              "  <thead>\n",
              "    <tr style=\"text-align: right;\">\n",
              "      <th></th>\n",
              "      <th>HeartDisease</th>\n",
              "      <th>BMI</th>\n",
              "      <th>Smoking</th>\n",
              "      <th>AlcoholDrinking</th>\n",
              "      <th>Stroke</th>\n",
              "      <th>PhysicalHealth</th>\n",
              "      <th>MentalHealth</th>\n",
              "      <th>DiffWalking</th>\n",
              "      <th>Sex</th>\n",
              "      <th>AgeCategory</th>\n",
              "      <th>...</th>\n",
              "      <th>SleepTime</th>\n",
              "      <th>Asthma</th>\n",
              "      <th>KidneyDisease</th>\n",
              "      <th>SkinCancer</th>\n",
              "      <th>Race_American Indian/Alaskan Native</th>\n",
              "      <th>Race_Asian</th>\n",
              "      <th>Race_Black</th>\n",
              "      <th>Race_Hispanic</th>\n",
              "      <th>Race_Other</th>\n",
              "      <th>Race_White</th>\n",
              "    </tr>\n",
              "  </thead>\n",
              "  <tbody>\n",
              "    <tr>\n",
              "      <th>0</th>\n",
              "      <td>0</td>\n",
              "      <td>16.60</td>\n",
              "      <td>1</td>\n",
              "      <td>0</td>\n",
              "      <td>0</td>\n",
              "      <td>3.0</td>\n",
              "      <td>30.0</td>\n",
              "      <td>0</td>\n",
              "      <td>0</td>\n",
              "      <td>55</td>\n",
              "      <td>...</td>\n",
              "      <td>5.0</td>\n",
              "      <td>1</td>\n",
              "      <td>0</td>\n",
              "      <td>1</td>\n",
              "      <td>0</td>\n",
              "      <td>0</td>\n",
              "      <td>0</td>\n",
              "      <td>0</td>\n",
              "      <td>0</td>\n",
              "      <td>1</td>\n",
              "    </tr>\n",
              "    <tr>\n",
              "      <th>1</th>\n",
              "      <td>0</td>\n",
              "      <td>20.34</td>\n",
              "      <td>0</td>\n",
              "      <td>0</td>\n",
              "      <td>1</td>\n",
              "      <td>0.0</td>\n",
              "      <td>0.0</td>\n",
              "      <td>0</td>\n",
              "      <td>0</td>\n",
              "      <td>80</td>\n",
              "      <td>...</td>\n",
              "      <td>7.0</td>\n",
              "      <td>0</td>\n",
              "      <td>0</td>\n",
              "      <td>0</td>\n",
              "      <td>0</td>\n",
              "      <td>0</td>\n",
              "      <td>0</td>\n",
              "      <td>0</td>\n",
              "      <td>0</td>\n",
              "      <td>1</td>\n",
              "    </tr>\n",
              "    <tr>\n",
              "      <th>2</th>\n",
              "      <td>0</td>\n",
              "      <td>26.58</td>\n",
              "      <td>1</td>\n",
              "      <td>0</td>\n",
              "      <td>0</td>\n",
              "      <td>20.0</td>\n",
              "      <td>30.0</td>\n",
              "      <td>0</td>\n",
              "      <td>1</td>\n",
              "      <td>65</td>\n",
              "      <td>...</td>\n",
              "      <td>8.0</td>\n",
              "      <td>1</td>\n",
              "      <td>0</td>\n",
              "      <td>0</td>\n",
              "      <td>0</td>\n",
              "      <td>0</td>\n",
              "      <td>0</td>\n",
              "      <td>0</td>\n",
              "      <td>0</td>\n",
              "      <td>1</td>\n",
              "    </tr>\n",
              "    <tr>\n",
              "      <th>3</th>\n",
              "      <td>0</td>\n",
              "      <td>24.21</td>\n",
              "      <td>0</td>\n",
              "      <td>0</td>\n",
              "      <td>0</td>\n",
              "      <td>0.0</td>\n",
              "      <td>0.0</td>\n",
              "      <td>0</td>\n",
              "      <td>0</td>\n",
              "      <td>75</td>\n",
              "      <td>...</td>\n",
              "      <td>6.0</td>\n",
              "      <td>0</td>\n",
              "      <td>0</td>\n",
              "      <td>1</td>\n",
              "      <td>0</td>\n",
              "      <td>0</td>\n",
              "      <td>0</td>\n",
              "      <td>0</td>\n",
              "      <td>0</td>\n",
              "      <td>1</td>\n",
              "    </tr>\n",
              "    <tr>\n",
              "      <th>4</th>\n",
              "      <td>0</td>\n",
              "      <td>23.71</td>\n",
              "      <td>0</td>\n",
              "      <td>0</td>\n",
              "      <td>0</td>\n",
              "      <td>28.0</td>\n",
              "      <td>0.0</td>\n",
              "      <td>1</td>\n",
              "      <td>0</td>\n",
              "      <td>40</td>\n",
              "      <td>...</td>\n",
              "      <td>8.0</td>\n",
              "      <td>0</td>\n",
              "      <td>0</td>\n",
              "      <td>0</td>\n",
              "      <td>0</td>\n",
              "      <td>0</td>\n",
              "      <td>0</td>\n",
              "      <td>0</td>\n",
              "      <td>0</td>\n",
              "      <td>1</td>\n",
              "    </tr>\n",
              "  </tbody>\n",
              "</table>\n",
              "<p>5 rows × 23 columns</p>\n",
              "</div>\n",
              "      <button class=\"colab-df-convert\" onclick=\"convertToInteractive('df-1e9e40a2-88a5-47d3-8a4a-593e06c94dbb')\"\n",
              "              title=\"Convert this dataframe to an interactive table.\"\n",
              "              style=\"display:none;\">\n",
              "        \n",
              "  <svg xmlns=\"http://www.w3.org/2000/svg\" height=\"24px\"viewBox=\"0 0 24 24\"\n",
              "       width=\"24px\">\n",
              "    <path d=\"M0 0h24v24H0V0z\" fill=\"none\"/>\n",
              "    <path d=\"M18.56 5.44l.94 2.06.94-2.06 2.06-.94-2.06-.94-.94-2.06-.94 2.06-2.06.94zm-11 1L8.5 8.5l.94-2.06 2.06-.94-2.06-.94L8.5 2.5l-.94 2.06-2.06.94zm10 10l.94 2.06.94-2.06 2.06-.94-2.06-.94-.94-2.06-.94 2.06-2.06.94z\"/><path d=\"M17.41 7.96l-1.37-1.37c-.4-.4-.92-.59-1.43-.59-.52 0-1.04.2-1.43.59L10.3 9.45l-7.72 7.72c-.78.78-.78 2.05 0 2.83L4 21.41c.39.39.9.59 1.41.59.51 0 1.02-.2 1.41-.59l7.78-7.78 2.81-2.81c.8-.78.8-2.07 0-2.86zM5.41 20L4 18.59l7.72-7.72 1.47 1.35L5.41 20z\"/>\n",
              "  </svg>\n",
              "      </button>\n",
              "      \n",
              "  <style>\n",
              "    .colab-df-container {\n",
              "      display:flex;\n",
              "      flex-wrap:wrap;\n",
              "      gap: 12px;\n",
              "    }\n",
              "\n",
              "    .colab-df-convert {\n",
              "      background-color: #E8F0FE;\n",
              "      border: none;\n",
              "      border-radius: 50%;\n",
              "      cursor: pointer;\n",
              "      display: none;\n",
              "      fill: #1967D2;\n",
              "      height: 32px;\n",
              "      padding: 0 0 0 0;\n",
              "      width: 32px;\n",
              "    }\n",
              "\n",
              "    .colab-df-convert:hover {\n",
              "      background-color: #E2EBFA;\n",
              "      box-shadow: 0px 1px 2px rgba(60, 64, 67, 0.3), 0px 1px 3px 1px rgba(60, 64, 67, 0.15);\n",
              "      fill: #174EA6;\n",
              "    }\n",
              "\n",
              "    [theme=dark] .colab-df-convert {\n",
              "      background-color: #3B4455;\n",
              "      fill: #D2E3FC;\n",
              "    }\n",
              "\n",
              "    [theme=dark] .colab-df-convert:hover {\n",
              "      background-color: #434B5C;\n",
              "      box-shadow: 0px 1px 3px 1px rgba(0, 0, 0, 0.15);\n",
              "      filter: drop-shadow(0px 1px 2px rgba(0, 0, 0, 0.3));\n",
              "      fill: #FFFFFF;\n",
              "    }\n",
              "  </style>\n",
              "\n",
              "      <script>\n",
              "        const buttonEl =\n",
              "          document.querySelector('#df-1e9e40a2-88a5-47d3-8a4a-593e06c94dbb button.colab-df-convert');\n",
              "        buttonEl.style.display =\n",
              "          google.colab.kernel.accessAllowed ? 'block' : 'none';\n",
              "\n",
              "        async function convertToInteractive(key) {\n",
              "          const element = document.querySelector('#df-1e9e40a2-88a5-47d3-8a4a-593e06c94dbb');\n",
              "          const dataTable =\n",
              "            await google.colab.kernel.invokeFunction('convertToInteractive',\n",
              "                                                     [key], {});\n",
              "          if (!dataTable) return;\n",
              "\n",
              "          const docLinkHtml = 'Like what you see? Visit the ' +\n",
              "            '<a target=\"_blank\" href=https://colab.research.google.com/notebooks/data_table.ipynb>data table notebook</a>'\n",
              "            + ' to learn more about interactive tables.';\n",
              "          element.innerHTML = '';\n",
              "          dataTable['output_type'] = 'display_data';\n",
              "          await google.colab.output.renderOutput(dataTable, element);\n",
              "          const docLink = document.createElement('div');\n",
              "          docLink.innerHTML = docLinkHtml;\n",
              "          element.appendChild(docLink);\n",
              "        }\n",
              "      </script>\n",
              "    </div>\n",
              "  </div>\n",
              "  "
            ]
          },
          "metadata": {},
          "execution_count": 3
        }
      ]
    },
    {
      "cell_type": "code",
      "source": [
        "df.info()"
      ],
      "metadata": {
        "colab": {
          "base_uri": "https://localhost:8080/"
        },
        "id": "tkTa6IoykRMF",
        "outputId": "bc8d0e30-e48d-47c1-a78e-c49763ca3121"
      },
      "execution_count": null,
      "outputs": [
        {
          "output_type": "stream",
          "name": "stdout",
          "text": [
            "<class 'pandas.core.frame.DataFrame'>\n",
            "Int64Index: 301717 entries, 0 to 319794\n",
            "Data columns (total 23 columns):\n",
            " #   Column                               Non-Null Count   Dtype  \n",
            "---  ------                               --------------   -----  \n",
            " 0   HeartDisease                         301717 non-null  int64  \n",
            " 1   BMI                                  301717 non-null  float64\n",
            " 2   Smoking                              301717 non-null  int64  \n",
            " 3   AlcoholDrinking                      301717 non-null  int64  \n",
            " 4   Stroke                               301717 non-null  int64  \n",
            " 5   PhysicalHealth                       301717 non-null  float64\n",
            " 6   MentalHealth                         301717 non-null  float64\n",
            " 7   DiffWalking                          301717 non-null  int64  \n",
            " 8   Sex                                  301717 non-null  int64  \n",
            " 9   AgeCategory                          301717 non-null  int64  \n",
            " 10  Diabetic                             301717 non-null  object \n",
            " 11  PhysicalActivity                     301717 non-null  int64  \n",
            " 12  GenHealth                            301717 non-null  int64  \n",
            " 13  SleepTime                            301717 non-null  float64\n",
            " 14  Asthma                               301717 non-null  int64  \n",
            " 15  KidneyDisease                        301717 non-null  int64  \n",
            " 16  SkinCancer                           301717 non-null  int64  \n",
            " 17  Race_American Indian/Alaskan Native  301717 non-null  uint8  \n",
            " 18  Race_Asian                           301717 non-null  uint8  \n",
            " 19  Race_Black                           301717 non-null  uint8  \n",
            " 20  Race_Hispanic                        301717 non-null  uint8  \n",
            " 21  Race_Other                           301717 non-null  uint8  \n",
            " 22  Race_White                           301717 non-null  uint8  \n",
            "dtypes: float64(4), int64(12), object(1), uint8(6)\n",
            "memory usage: 43.2+ MB\n"
          ]
        }
      ]
    },
    {
      "cell_type": "code",
      "source": [
        "from sklearn.preprocessing import StandardScaler\n",
        "df_scaled = df.copy()\n",
        "scaler = StandardScaler()\n",
        "df_scaled[['BMI','PhysicalHealth', 'MentalHealth', 'SleepTime']] = scaler.fit_transform(df_scaled[['BMI','PhysicalHealth', 'MentalHealth', 'SleepTime']])"
      ],
      "metadata": {
        "id": "mwRdrHX3wOdM"
      },
      "execution_count": null,
      "outputs": []
    },
    {
      "cell_type": "markdown",
      "source": [
        "## Baseline model -> Logistic"
      ],
      "metadata": {
        "id": "dEaHFQDPkfN3"
      }
    },
    {
      "cell_type": "code",
      "source": [
        "X_features = df_scaled.drop('HeartDisease', axis=1, inplace=False)\n",
        "y_target = df_scaled['HeartDisease']\n",
        "print(sum(y_target==0)/y_target.shape[0])\n",
        "print(sum(y_target==1)/y_target.shape[0])"
      ],
      "metadata": {
        "colab": {
          "base_uri": "https://localhost:8080/"
        },
        "id": "pKgE4p9gkv0e",
        "outputId": "52a616f1-6de9-465d-81ac-3a91b2e1aab3"
      },
      "execution_count": null,
      "outputs": [
        {
          "output_type": "stream",
          "name": "stdout",
          "text": [
            "0.9096471196518592\n",
            "0.0903528803481408\n"
          ]
        }
      ]
    },
    {
      "cell_type": "code",
      "source": [
        "from sklearn.linear_model import LogisticRegression\n",
        "from sklearn.model_selection import train_test_split\n",
        "\n",
        "X_train, X_test, y_train, y_test = train_test_split(X_features, y_target, test_size=0.3)\n",
        "print(y_train.shape, y_test.shape)\n",
        "print(sum(y_train==0)/y_train.shape[0])\n",
        "print(sum(y_train==1)/y_train.shape[0])"
      ],
      "metadata": {
        "colab": {
          "base_uri": "https://localhost:8080/"
        },
        "id": "Hgd4rIuTl6w_",
        "outputId": "5530d4ac-1c3d-4883-bf45-c95ad0f89698"
      },
      "execution_count": null,
      "outputs": [
        {
          "output_type": "stream",
          "name": "stdout",
          "text": [
            "(211201,) (90516,)\n",
            "0.9094322470064062\n",
            "0.09056775299359378\n"
          ]
        }
      ]
    },
    {
      "cell_type": "code",
      "source": [
        "from sklearn.linear_model import LogisticRegression\n",
        "from sklearn.metrics import accuracy_score, roc_auc_score, f1_score\n",
        "\n",
        "model = LogisticRegression()\n",
        "model.fit(X_train, y_train)\n",
        "lr_preds = model.predict(X_test)\n",
        "print(accuracy_score(y_test, lr_preds))\n",
        "print(f1_score(y_test, lr_preds))\n",
        "print(roc_auc_score(y_test, lr_preds))"
      ],
      "metadata": {
        "colab": {
          "base_uri": "https://localhost:8080/"
        },
        "id": "D_4lby4fkcb7",
        "outputId": "a71a60ad-01e4-4d7d-ad7b-345e6e9e49e9"
      },
      "execution_count": null,
      "outputs": [
        {
          "output_type": "stream",
          "name": "stderr",
          "text": [
            "/usr/local/lib/python3.7/dist-packages/sklearn/linear_model/_logistic.py:818: ConvergenceWarning: lbfgs failed to converge (status=1):\n",
            "STOP: TOTAL NO. of ITERATIONS REACHED LIMIT.\n",
            "\n",
            "Increase the number of iterations (max_iter) or scale the data as shown in:\n",
            "    https://scikit-learn.org/stable/modules/preprocessing.html\n",
            "Please also refer to the documentation for alternative solver options:\n",
            "    https://scikit-learn.org/stable/modules/linear_model.html#logistic-regression\n",
            "  extra_warning_msg=_LOGISTIC_SOLVER_CONVERGENCE_MSG,\n"
          ]
        },
        {
          "output_type": "stream",
          "name": "stdout",
          "text": [
            "0.9111096380750364\n",
            "0.19844590555887626\n",
            "0.5557151028081527\n"
          ]
        }
      ]
    },
    {
      "cell_type": "markdown",
      "source": [
        "## oversampling"
      ],
      "metadata": {
        "id": "6oMf8BRMkv98"
      }
    },
    {
      "cell_type": "markdown",
      "source": [
        "### Random OverSampling"
      ],
      "metadata": {
        "id": "cMCe6H0HyYJg"
      }
    },
    {
      "cell_type": "code",
      "source": [
        "# 소수 클래스 데이터 단순 복제, 숫자가 늘어나기 때문에 더 많은 가중치 받는 원리 -> 과적합 위험 존재\n",
        "from imblearn.over_sampling import RandomOverSampler\n",
        "from collections import Counter\n",
        "\n",
        "print(sum(y_target==0)/y_target.shape[0])\n",
        "print(sum(y_target==1)/y_target.shape[0])\n",
        "\n",
        "ros = RandomOverSampler()\n",
        "X_res, y_res = ros.fit_resample(X_features, y_target)\n",
        "\n",
        "print(Counter(y_target))\n",
        "print(Counter(y_res))"
      ],
      "metadata": {
        "colab": {
          "base_uri": "https://localhost:8080/"
        },
        "id": "CWoHh5enkvOM",
        "outputId": "e264a1dc-8e17-4359-e367-3d16173c4053"
      },
      "execution_count": null,
      "outputs": [
        {
          "output_type": "stream",
          "name": "stdout",
          "text": [
            "0.9096471196518592\n",
            "0.0903528803481408\n",
            "Counter({0: 274456, 1: 27261})\n",
            "Counter({0: 274456, 1: 274456})\n"
          ]
        }
      ]
    },
    {
      "cell_type": "code",
      "source": [
        "X_train, X_test, y_train, y_test = train_test_split(X_res, y_res, test_size=0.3)\n",
        "model = LogisticRegression()\n",
        "model.fit(X_train, y_train)\n",
        "lr_preds = model.predict(X_test)\n",
        "print('accuracy:', accuracy_score(y_test, lr_preds))\n",
        "print('f1 score:', f1_score(y_test, lr_preds))\n",
        "print('roc auc score:', roc_auc_score(y_test, lr_preds))"
      ],
      "metadata": {
        "colab": {
          "base_uri": "https://localhost:8080/"
        },
        "id": "jBeHlSDv5JAQ",
        "outputId": "7c13307e-70e7-4859-e273-814357331c1e"
      },
      "execution_count": null,
      "outputs": [
        {
          "output_type": "stream",
          "name": "stderr",
          "text": [
            "/usr/local/lib/python3.7/dist-packages/sklearn/linear_model/_logistic.py:818: ConvergenceWarning: lbfgs failed to converge (status=1):\n",
            "STOP: TOTAL NO. of ITERATIONS REACHED LIMIT.\n",
            "\n",
            "Increase the number of iterations (max_iter) or scale the data as shown in:\n",
            "    https://scikit-learn.org/stable/modules/preprocessing.html\n",
            "Please also refer to the documentation for alternative solver options:\n",
            "    https://scikit-learn.org/stable/modules/linear_model.html#logistic-regression\n",
            "  extra_warning_msg=_LOGISTIC_SOLVER_CONVERGENCE_MSG,\n"
          ]
        },
        {
          "output_type": "stream",
          "name": "stdout",
          "text": [
            "accuracy: 0.7587172231196182\n",
            "f1 score: 0.7633658707990638\n",
            "roc auc score: 0.7586949159972814\n"
          ]
        }
      ]
    },
    {
      "cell_type": "markdown",
      "source": [
        "### SMOTE"
      ],
      "metadata": {
        "id": "MGqf2Xtj5U7I"
      }
    },
    {
      "cell_type": "code",
      "source": [
        "# 소수 클래스에 속하는 데이터 주변에 원본 데이터와 동일하지 않으면서 소수 클래스에 해당하는 가상의 데이터를 생성(minority class에서 synthetic 샘플을 생성) + knn\n",
        "# knn으로 가까운 minority class 들을 찾은 후 0과 1사이의 랜덤한 값을 선택한 후 해당 값으로 내분하는 점을 새로운 샘플로 생성하는 기법\n",
        "from imblearn.over_sampling import SMOTE\n",
        "\n",
        "smote = SMOTE()\n",
        "X_smote, y_smote = smote.fit_resample(X_features, y_target)\n",
        "\n",
        "print('Before:', Counter(y_target))\n",
        "print('After:', Counter(y_smote))"
      ],
      "metadata": {
        "id": "_iaiNCLVkvQT",
        "colab": {
          "base_uri": "https://localhost:8080/"
        },
        "outputId": "34d93024-97f3-46f8-a449-207254e7a841"
      },
      "execution_count": null,
      "outputs": [
        {
          "output_type": "stream",
          "name": "stdout",
          "text": [
            "Before: Counter({0: 274456, 1: 27261})\n",
            "After: Counter({0: 274456, 1: 274456})\n"
          ]
        }
      ]
    },
    {
      "cell_type": "code",
      "source": [
        "smote.nn_k_"
      ],
      "metadata": {
        "colab": {
          "base_uri": "https://localhost:8080/"
        },
        "id": "uUThMkY593Qd",
        "outputId": "3cb31bbc-04f1-4713-efb0-c7603cc55432"
      },
      "execution_count": null,
      "outputs": [
        {
          "output_type": "execute_result",
          "data": {
            "text/plain": [
              "NearestNeighbors(n_neighbors=6)"
            ]
          },
          "metadata": {},
          "execution_count": 47
        }
      ]
    },
    {
      "cell_type": "code",
      "source": [
        "X_train, X_test, y_train, y_test = train_test_split(X_smote, y_smote, test_size=0.3)\n",
        "model = LogisticRegression()\n",
        "model.fit(X_train, y_train)\n",
        "lr_preds = model.predict(X_test)\n",
        "print('accuracy:', accuracy_score(y_test, lr_preds))\n",
        "print('f1 score:', f1_score(y_test, lr_preds))\n",
        "print('roc auc score:', roc_auc_score(y_test, lr_preds))"
      ],
      "metadata": {
        "id": "jq5rGg1u7VpZ",
        "colab": {
          "base_uri": "https://localhost:8080/"
        },
        "outputId": "4a231935-4047-4892-8239-b8c9bfef0355"
      },
      "execution_count": null,
      "outputs": [
        {
          "output_type": "stream",
          "name": "stderr",
          "text": [
            "/usr/local/lib/python3.7/dist-packages/sklearn/linear_model/_logistic.py:818: ConvergenceWarning: lbfgs failed to converge (status=1):\n",
            "STOP: TOTAL NO. of ITERATIONS REACHED LIMIT.\n",
            "\n",
            "Increase the number of iterations (max_iter) or scale the data as shown in:\n",
            "    https://scikit-learn.org/stable/modules/preprocessing.html\n",
            "Please also refer to the documentation for alternative solver options:\n",
            "    https://scikit-learn.org/stable/modules/linear_model.html#logistic-regression\n",
            "  extra_warning_msg=_LOGISTIC_SOLVER_CONVERGENCE_MSG,\n"
          ]
        },
        {
          "output_type": "stream",
          "name": "stdout",
          "text": [
            "accuracy: 0.7714089655926254\n",
            "f1 score: 0.778600542279574\n",
            "roc auc score: 0.77149022129568\n"
          ]
        }
      ]
    },
    {
      "cell_type": "markdown",
      "source": [
        "##### SMOTE의 k_neighbors 하이퍼파라미터 조정"
      ],
      "metadata": {
        "id": "m9BSsdg3-34F"
      }
    },
    {
      "cell_type": "code",
      "source": [
        "smote = SMOTE(k_neighbors=10)\n",
        "X_smote, y_smote = smote.fit_resample(X_features, y_target)\n",
        "X_train, X_test, y_train, y_test = train_test_split(X_smote, y_smote, test_size=0.3)\n",
        "model = LogisticRegression()\n",
        "model.fit(X_train, y_train)\n",
        "lr_preds = model.predict(X_test)\n",
        "print('accuracy:', accuracy_score(y_test, lr_preds))\n",
        "print('f1 score:', f1_score(y_test, lr_preds))\n",
        "print('roc auc score:', roc_auc_score(y_test, lr_preds))"
      ],
      "metadata": {
        "colab": {
          "base_uri": "https://localhost:8080/"
        },
        "id": "f5-WYw1Z-I43",
        "outputId": "3eb55cdb-5ade-4acb-83ab-5364d7095a8f"
      },
      "execution_count": null,
      "outputs": [
        {
          "output_type": "stream",
          "name": "stderr",
          "text": [
            "/usr/local/lib/python3.7/dist-packages/sklearn/linear_model/_logistic.py:818: ConvergenceWarning: lbfgs failed to converge (status=1):\n",
            "STOP: TOTAL NO. of ITERATIONS REACHED LIMIT.\n",
            "\n",
            "Increase the number of iterations (max_iter) or scale the data as shown in:\n",
            "    https://scikit-learn.org/stable/modules/preprocessing.html\n",
            "Please also refer to the documentation for alternative solver options:\n",
            "    https://scikit-learn.org/stable/modules/linear_model.html#logistic-regression\n",
            "  extra_warning_msg=_LOGISTIC_SOLVER_CONVERGENCE_MSG,\n"
          ]
        },
        {
          "output_type": "stream",
          "name": "stdout",
          "text": [
            "accuracy: 0.7740505483561461\n",
            "f1 score: 0.7802945309824393\n",
            "roc auc score: 0.7740181416740515\n"
          ]
        }
      ]
    },
    {
      "cell_type": "markdown",
      "source": [
        "### BorderlineSMOTE"
      ],
      "metadata": {
        "id": "AZk9yKL16b68"
      }
    },
    {
      "cell_type": "code",
      "source": [
        "# 소수 클래스에 속하는 데이터 하나를 선정해 N개 주변을 탐색한 후 이 N개 데이터 중 다수 클래스에 속하는 데이터가 몇개인지 확인 -> Noise, Danger, Safe 관측치로 나눔\n",
        "# Danger 관측치에 대해서만 SMOTE 적용\n",
        "from imblearn.over_sampling import BorderlineSMOTE\n",
        "bsmote = BorderlineSMOTE()\n",
        "X_bsmote, y_bsmote = bsmote.fit_resample(X_features, y_target)\n",
        "\n",
        "print('Before:', Counter(y_target))\n",
        "print('After:', Counter(y_bsmote))\n",
        "\n",
        "print(bsmote.sampling_strategy_)\n",
        "print(bsmote.nn_k_)\n",
        "print(bsmote.nn_m_)"
      ],
      "metadata": {
        "id": "PQTODRygkvY3",
        "colab": {
          "base_uri": "https://localhost:8080/"
        },
        "outputId": "ef438512-5b5c-4cfd-ee7b-b4c64b52f4eb"
      },
      "execution_count": null,
      "outputs": [
        {
          "output_type": "stream",
          "name": "stdout",
          "text": [
            "Before: Counter({0: 274456, 1: 27261})\n",
            "After: Counter({0: 274456, 1: 274456})\n",
            "OrderedDict([(1, 247195)])\n",
            "NearestNeighbors(n_neighbors=6)\n",
            "NearestNeighbors(n_neighbors=11)\n"
          ]
        }
      ]
    },
    {
      "cell_type": "code",
      "source": [
        "X_train, X_test, y_train, y_test = train_test_split(X_bsmote, y_bsmote, test_size=0.3)\n",
        "model = LogisticRegression()\n",
        "model.fit(X_train, y_train)\n",
        "lr_preds = model.predict(X_test)\n",
        "print('accuracy:', accuracy_score(y_test, lr_preds))\n",
        "print('f1 score:', f1_score(y_test, lr_preds))\n",
        "print('roc auc score:', roc_auc_score(y_test, lr_preds))"
      ],
      "metadata": {
        "id": "rISpw-wJ6eEJ",
        "colab": {
          "base_uri": "https://localhost:8080/"
        },
        "outputId": "28452b7a-03b2-460d-b7fa-f6149586678a"
      },
      "execution_count": null,
      "outputs": [
        {
          "output_type": "stream",
          "name": "stderr",
          "text": [
            "/usr/local/lib/python3.7/dist-packages/sklearn/linear_model/_logistic.py:818: ConvergenceWarning: lbfgs failed to converge (status=1):\n",
            "STOP: TOTAL NO. of ITERATIONS REACHED LIMIT.\n",
            "\n",
            "Increase the number of iterations (max_iter) or scale the data as shown in:\n",
            "    https://scikit-learn.org/stable/modules/preprocessing.html\n",
            "Please also refer to the documentation for alternative solver options:\n",
            "    https://scikit-learn.org/stable/modules/linear_model.html#logistic-regression\n",
            "  extra_warning_msg=_LOGISTIC_SOLVER_CONVERGENCE_MSG,\n"
          ]
        },
        {
          "output_type": "stream",
          "name": "stdout",
          "text": [
            "accuracy: 0.8021727777305464\n",
            "f1 score: 0.8096170366950494\n",
            "roc auc score: 0.8021401147934948\n"
          ]
        }
      ]
    },
    {
      "cell_type": "markdown",
      "source": [
        "### ADASYN"
      ],
      "metadata": {
        "id": "v9i9tktj6eNd"
      }
    },
    {
      "cell_type": "code",
      "source": [
        "# 가중치를 통해 SMOTE 적용, 소수 클래스 주변의 다수 클래스 수에 따라 유동적으로 오버샘플링 할 데이터 개수를 생성\n",
        "from imblearn.over_sampling import ADASYN\n",
        "ads = ADASYN()\n",
        "X_ads, y_ads = ads.fit_resample(X_features, y_target)\n",
        "\n",
        "print('Before:', Counter(y_target))\n",
        "print('After:', Counter(y_ads))\n",
        "\n",
        "print(ads.nn_)"
      ],
      "metadata": {
        "id": "LvCu6e1K6eU_",
        "colab": {
          "base_uri": "https://localhost:8080/"
        },
        "outputId": "13e44538-979d-4d3c-cc52-6878804e4191"
      },
      "execution_count": null,
      "outputs": [
        {
          "output_type": "stream",
          "name": "stdout",
          "text": [
            "Before: Counter({0: 274456, 1: 27261})\n",
            "After: Counter({1: 277099, 0: 274456})\n",
            "NearestNeighbors(n_neighbors=6)\n"
          ]
        }
      ]
    },
    {
      "cell_type": "code",
      "source": [
        "X_train, X_test, y_train, y_test = train_test_split(X_ads, y_ads, test_size=0.3)\n",
        "model = LogisticRegression()\n",
        "model.fit(X_train, y_train)\n",
        "lr_preds = model.predict(X_test)\n",
        "print('accuracy:', accuracy_score(y_test, lr_preds))\n",
        "print('f1 score:', f1_score(y_test, lr_preds))\n",
        "print('roc auc score:', roc_auc_score(y_test, lr_preds))"
      ],
      "metadata": {
        "id": "8A-o7c867XJW",
        "colab": {
          "base_uri": "https://localhost:8080/"
        },
        "outputId": "e418a7a9-f1dd-4c9c-fa90-233a9bc8bb58"
      },
      "execution_count": null,
      "outputs": [
        {
          "output_type": "stream",
          "name": "stderr",
          "text": [
            "/usr/local/lib/python3.7/dist-packages/sklearn/linear_model/_logistic.py:818: ConvergenceWarning: lbfgs failed to converge (status=1):\n",
            "STOP: TOTAL NO. of ITERATIONS REACHED LIMIT.\n",
            "\n",
            "Increase the number of iterations (max_iter) or scale the data as shown in:\n",
            "    https://scikit-learn.org/stable/modules/preprocessing.html\n",
            "Please also refer to the documentation for alternative solver options:\n",
            "    https://scikit-learn.org/stable/modules/linear_model.html#logistic-regression\n",
            "  extra_warning_msg=_LOGISTIC_SOLVER_CONVERGENCE_MSG,\n"
          ]
        },
        {
          "output_type": "stream",
          "name": "stdout",
          "text": [
            "accuracy: 0.7556491626729197\n",
            "f1 score: 0.763425508759201\n",
            "roc auc score: 0.7556118505368855\n"
          ]
        }
      ]
    },
    {
      "cell_type": "markdown",
      "source": [
        "### SVMSMOTE"
      ],
      "metadata": {
        "id": "4lc-IQRgR68w"
      }
    },
    {
      "cell_type": "code",
      "source": [
        "from imblearn.over_sampling import SVMSMOTE \n",
        "sm = SVMSMOTE()\n",
        "X_res, y_res = sm.fit_resample(X_features, y_target)\n",
        "\n",
        "print('Before:', Counter(y_target))\n",
        "print('After:', Counter(y_res))\n",
        "print(sm.nn_k_)\n",
        "print(sm.nn_m_)\n",
        "print(sm.svm_estimator)"
      ],
      "metadata": {
        "id": "L_OdzecCR7EB"
      },
      "execution_count": null,
      "outputs": []
    },
    {
      "cell_type": "markdown",
      "source": [
        "Before: Counter({0: 274456, 1: 27261})  \n",
        "After: Counter({0: 274456, 1: 274456})  \n",
        "NearestNeighbors(n_neighbors=6)  \n",
        "NearestNeighbors(n_neighbors=11)  \n",
        "None  "
      ],
      "metadata": {
        "id": "lg7g4WsJe68M"
      }
    },
    {
      "cell_type": "code",
      "source": [
        "X_train, X_test, y_train, y_test = train_test_split(X_res, y_res, test_size=0.3)\n",
        "model = LogisticRegression()\n",
        "model.fit(X_train, y_train)\n",
        "lr_preds = model.predict(X_test)\n",
        "print('accuracy:', accuracy_score(y_test, lr_preds))\n",
        "print('f1 score:', f1_score(y_test, lr_preds))\n",
        "print('roc auc score:', roc_auc_score(y_test, lr_preds))"
      ],
      "metadata": {
        "id": "5fqVEX2tR7F_"
      },
      "execution_count": null,
      "outputs": []
    },
    {
      "cell_type": "markdown",
      "source": [
        "accuracy: 0.8540571067685245  \n",
        "f1 score: 0.8549809018663673  \n",
        "roc auc score: 0.8541038360828026  "
      ],
      "metadata": {
        "id": "uxzc5g3JfAN9"
      }
    },
    {
      "cell_type": "markdown",
      "source": [
        "### SMOTENC"
      ],
      "metadata": {
        "id": "aJBfama_fKgY"
      }
    },
    {
      "cell_type": "code",
      "source": [
        "from imblearn.over_sampling import SMOTENC\n",
        "sm = SMOTENC(categorical_features=[1,2,3,6,7,9,10,13,14,15,16,17,18,19,20,21])\n",
        "X_res, y_res = sm.fit_resample(X_features, y_target)\n",
        "print(f'Resampled dataset samples per class {Counter(y_res)}')"
      ],
      "metadata": {
        "id": "uguGm84gfE4X"
      },
      "execution_count": null,
      "outputs": []
    },
    {
      "cell_type": "markdown",
      "source": [
        "Resampled dataset samples per class Counter({0: 274456, 1: 274456})"
      ],
      "metadata": {
        "id": "6eVnx_nLfGC1"
      }
    },
    {
      "cell_type": "code",
      "source": [
        "X_train, X_test, y_train, y_test = train_test_split(X_res, y_res, test_size=0.3)\n",
        "model = LogisticRegression()\n",
        "model.fit(X_train, y_train)\n",
        "lr_preds = model.predict(X_test)\n",
        "print('accuracy:', accuracy_score(y_test, lr_preds))\n",
        "print('f1 score:', f1_score(y_test, lr_preds))\n",
        "print('roc auc score:', roc_auc_score(y_test, lr_preds))"
      ],
      "metadata": {
        "id": "ygBp4vnnfGMQ"
      },
      "execution_count": null,
      "outputs": []
    },
    {
      "cell_type": "markdown",
      "source": [
        "accuracy: 0.7723805822412767  \n",
        "f1 score: 0.7793495217071376  \n",
        "roc auc score: 0.7723053881512035  "
      ],
      "metadata": {
        "id": "tHEzbgiMfG1g"
      }
    },
    {
      "cell_type": "markdown",
      "source": [
        "https://imbalanced-learn.org/stable/references/over_sampling.html"
      ],
      "metadata": {
        "id": "hfZGI_u8RlHx"
      }
    },
    {
      "cell_type": "markdown",
      "source": [
        "### MSMOTE"
      ],
      "metadata": {
        "id": "-Ab_nW1YGsZG"
      }
    },
    {
      "cell_type": "code",
      "source": [
        "import smote_variants as sv\n",
        "oversampler= sv.distance_SMOTE()\n",
        "X_ms, y_ms = oversampler.sample(X_features, y_target)\n",
        "print('Before:', Counter(y_target))\n",
        "print('After:', Counter(y_ms))"
      ],
      "metadata": {
        "colab": {
          "base_uri": "https://localhost:8080/",
          "height": 424
        },
        "id": "b2mht5RCGsgP",
        "outputId": "78e94cef-472c-4024-f04c-3e8b6a60f1a2"
      },
      "execution_count": null,
      "outputs": [
        {
          "output_type": "stream",
          "name": "stderr",
          "text": [
            "2022-05-28 14:40:54,476:INFO:distance_SMOTE: Running sampling via ('distance_SMOTE', \"{'proportion': 1.0, 'n_neighbors': 5, 'n_jobs': 1, 'random_state': None}\")\n"
          ]
        },
        {
          "output_type": "error",
          "ename": "KeyError",
          "evalue": "ignored",
          "traceback": [
            "\u001b[0;31m---------------------------------------------------------------------------\u001b[0m",
            "\u001b[0;31mKeyError\u001b[0m                                  Traceback (most recent call last)",
            "\u001b[0;32m<ipython-input-57-3b2b5e50a9ff>\u001b[0m in \u001b[0;36m<module>\u001b[0;34m()\u001b[0m\n\u001b[1;32m      1\u001b[0m \u001b[0;32mimport\u001b[0m \u001b[0msmote_variants\u001b[0m \u001b[0;32mas\u001b[0m \u001b[0msv\u001b[0m\u001b[0;34m\u001b[0m\u001b[0;34m\u001b[0m\u001b[0m\n\u001b[1;32m      2\u001b[0m \u001b[0moversampler\u001b[0m\u001b[0;34m=\u001b[0m \u001b[0msv\u001b[0m\u001b[0;34m.\u001b[0m\u001b[0mdistance_SMOTE\u001b[0m\u001b[0;34m(\u001b[0m\u001b[0;34m)\u001b[0m\u001b[0;34m\u001b[0m\u001b[0;34m\u001b[0m\u001b[0m\n\u001b[0;32m----> 3\u001b[0;31m \u001b[0mX_ms\u001b[0m\u001b[0;34m,\u001b[0m \u001b[0my_ms\u001b[0m \u001b[0;34m=\u001b[0m \u001b[0moversampler\u001b[0m\u001b[0;34m.\u001b[0m\u001b[0msample\u001b[0m\u001b[0;34m(\u001b[0m\u001b[0mX_features\u001b[0m\u001b[0;34m,\u001b[0m \u001b[0my_target\u001b[0m\u001b[0;34m)\u001b[0m\u001b[0;34m\u001b[0m\u001b[0;34m\u001b[0m\u001b[0m\n\u001b[0m\u001b[1;32m      4\u001b[0m \u001b[0mprint\u001b[0m\u001b[0;34m(\u001b[0m\u001b[0;34m'Before:'\u001b[0m\u001b[0;34m,\u001b[0m \u001b[0mCounter\u001b[0m\u001b[0;34m(\u001b[0m\u001b[0my_target\u001b[0m\u001b[0;34m)\u001b[0m\u001b[0;34m)\u001b[0m\u001b[0;34m\u001b[0m\u001b[0;34m\u001b[0m\u001b[0m\n\u001b[1;32m      5\u001b[0m \u001b[0mprint\u001b[0m\u001b[0;34m(\u001b[0m\u001b[0;34m'After:'\u001b[0m\u001b[0;34m,\u001b[0m \u001b[0mCounter\u001b[0m\u001b[0;34m(\u001b[0m\u001b[0my_ms\u001b[0m\u001b[0;34m)\u001b[0m\u001b[0;34m)\u001b[0m\u001b[0;34m\u001b[0m\u001b[0;34m\u001b[0m\u001b[0m\n",
            "\u001b[0;32m/usr/local/lib/python3.7/dist-packages/smote_variants/_smote_variants.py\u001b[0m in \u001b[0;36msample\u001b[0;34m(self, X, y)\u001b[0m\n\u001b[1;32m   2775\u001b[0m         \u001b[0;32mfor\u001b[0m \u001b[0m_\u001b[0m \u001b[0;32min\u001b[0m \u001b[0mrange\u001b[0m\u001b[0;34m(\u001b[0m\u001b[0mn_to_sample\u001b[0m\u001b[0;34m)\u001b[0m\u001b[0;34m:\u001b[0m\u001b[0;34m\u001b[0m\u001b[0;34m\u001b[0m\u001b[0m\n\u001b[1;32m   2776\u001b[0m             \u001b[0midx\u001b[0m \u001b[0;34m=\u001b[0m \u001b[0mself\u001b[0m\u001b[0;34m.\u001b[0m\u001b[0mrandom_state\u001b[0m\u001b[0;34m.\u001b[0m\u001b[0mrandint\u001b[0m\u001b[0;34m(\u001b[0m\u001b[0mlen\u001b[0m\u001b[0;34m(\u001b[0m\u001b[0mX_min\u001b[0m\u001b[0;34m)\u001b[0m\u001b[0;34m)\u001b[0m\u001b[0;34m\u001b[0m\u001b[0;34m\u001b[0m\u001b[0m\n\u001b[0;32m-> 2777\u001b[0;31m             \u001b[0mmean_vector\u001b[0m \u001b[0;34m=\u001b[0m \u001b[0mnp\u001b[0m\u001b[0;34m.\u001b[0m\u001b[0mmean\u001b[0m\u001b[0;34m(\u001b[0m\u001b[0mX_min\u001b[0m\u001b[0;34m[\u001b[0m\u001b[0mind\u001b[0m\u001b[0;34m[\u001b[0m\u001b[0midx\u001b[0m\u001b[0;34m]\u001b[0m\u001b[0;34m[\u001b[0m\u001b[0;36m1\u001b[0m\u001b[0;34m:\u001b[0m\u001b[0;34m]\u001b[0m\u001b[0;34m]\u001b[0m\u001b[0;34m,\u001b[0m \u001b[0maxis\u001b[0m\u001b[0;34m=\u001b[0m\u001b[0;36m0\u001b[0m\u001b[0;34m)\u001b[0m\u001b[0;34m\u001b[0m\u001b[0;34m\u001b[0m\u001b[0m\n\u001b[0m\u001b[1;32m   2778\u001b[0m             \u001b[0msamples\u001b[0m\u001b[0;34m.\u001b[0m\u001b[0mappend\u001b[0m\u001b[0;34m(\u001b[0m\u001b[0mself\u001b[0m\u001b[0;34m.\u001b[0m\u001b[0msample_between_points\u001b[0m\u001b[0;34m(\u001b[0m\u001b[0mX_min\u001b[0m\u001b[0;34m[\u001b[0m\u001b[0midx\u001b[0m\u001b[0;34m]\u001b[0m\u001b[0;34m,\u001b[0m \u001b[0mmean_vector\u001b[0m\u001b[0;34m)\u001b[0m\u001b[0;34m)\u001b[0m\u001b[0;34m\u001b[0m\u001b[0;34m\u001b[0m\u001b[0m\n\u001b[1;32m   2779\u001b[0m \u001b[0;34m\u001b[0m\u001b[0m\n",
            "\u001b[0;32m/usr/local/lib/python3.7/dist-packages/pandas/core/frame.py\u001b[0m in \u001b[0;36m__getitem__\u001b[0;34m(self, key)\u001b[0m\n\u001b[1;32m   3462\u001b[0m             \u001b[0;32mif\u001b[0m \u001b[0mis_iterator\u001b[0m\u001b[0;34m(\u001b[0m\u001b[0mkey\u001b[0m\u001b[0;34m)\u001b[0m\u001b[0;34m:\u001b[0m\u001b[0;34m\u001b[0m\u001b[0;34m\u001b[0m\u001b[0m\n\u001b[1;32m   3463\u001b[0m                 \u001b[0mkey\u001b[0m \u001b[0;34m=\u001b[0m \u001b[0mlist\u001b[0m\u001b[0;34m(\u001b[0m\u001b[0mkey\u001b[0m\u001b[0;34m)\u001b[0m\u001b[0;34m\u001b[0m\u001b[0;34m\u001b[0m\u001b[0m\n\u001b[0;32m-> 3464\u001b[0;31m             \u001b[0mindexer\u001b[0m \u001b[0;34m=\u001b[0m \u001b[0mself\u001b[0m\u001b[0;34m.\u001b[0m\u001b[0mloc\u001b[0m\u001b[0;34m.\u001b[0m\u001b[0m_get_listlike_indexer\u001b[0m\u001b[0;34m(\u001b[0m\u001b[0mkey\u001b[0m\u001b[0;34m,\u001b[0m \u001b[0maxis\u001b[0m\u001b[0;34m=\u001b[0m\u001b[0;36m1\u001b[0m\u001b[0;34m)\u001b[0m\u001b[0;34m[\u001b[0m\u001b[0;36m1\u001b[0m\u001b[0;34m]\u001b[0m\u001b[0;34m\u001b[0m\u001b[0;34m\u001b[0m\u001b[0m\n\u001b[0m\u001b[1;32m   3465\u001b[0m \u001b[0;34m\u001b[0m\u001b[0m\n\u001b[1;32m   3466\u001b[0m         \u001b[0;31m# take() does not accept boolean indexers\u001b[0m\u001b[0;34m\u001b[0m\u001b[0;34m\u001b[0m\u001b[0;34m\u001b[0m\u001b[0m\n",
            "\u001b[0;32m/usr/local/lib/python3.7/dist-packages/pandas/core/indexing.py\u001b[0m in \u001b[0;36m_get_listlike_indexer\u001b[0;34m(self, key, axis)\u001b[0m\n\u001b[1;32m   1312\u001b[0m             \u001b[0mkeyarr\u001b[0m\u001b[0;34m,\u001b[0m \u001b[0mindexer\u001b[0m\u001b[0;34m,\u001b[0m \u001b[0mnew_indexer\u001b[0m \u001b[0;34m=\u001b[0m \u001b[0max\u001b[0m\u001b[0;34m.\u001b[0m\u001b[0m_reindex_non_unique\u001b[0m\u001b[0;34m(\u001b[0m\u001b[0mkeyarr\u001b[0m\u001b[0;34m)\u001b[0m\u001b[0;34m\u001b[0m\u001b[0;34m\u001b[0m\u001b[0m\n\u001b[1;32m   1313\u001b[0m \u001b[0;34m\u001b[0m\u001b[0m\n\u001b[0;32m-> 1314\u001b[0;31m         \u001b[0mself\u001b[0m\u001b[0;34m.\u001b[0m\u001b[0m_validate_read_indexer\u001b[0m\u001b[0;34m(\u001b[0m\u001b[0mkeyarr\u001b[0m\u001b[0;34m,\u001b[0m \u001b[0mindexer\u001b[0m\u001b[0;34m,\u001b[0m \u001b[0maxis\u001b[0m\u001b[0;34m)\u001b[0m\u001b[0;34m\u001b[0m\u001b[0;34m\u001b[0m\u001b[0m\n\u001b[0m\u001b[1;32m   1315\u001b[0m \u001b[0;34m\u001b[0m\u001b[0m\n\u001b[1;32m   1316\u001b[0m         if needs_i8_conversion(ax.dtype) or isinstance(\n",
            "\u001b[0;32m/usr/local/lib/python3.7/dist-packages/pandas/core/indexing.py\u001b[0m in \u001b[0;36m_validate_read_indexer\u001b[0;34m(self, key, indexer, axis)\u001b[0m\n\u001b[1;32m   1372\u001b[0m                 \u001b[0;32mif\u001b[0m \u001b[0muse_interval_msg\u001b[0m\u001b[0;34m:\u001b[0m\u001b[0;34m\u001b[0m\u001b[0;34m\u001b[0m\u001b[0m\n\u001b[1;32m   1373\u001b[0m                     \u001b[0mkey\u001b[0m \u001b[0;34m=\u001b[0m \u001b[0mlist\u001b[0m\u001b[0;34m(\u001b[0m\u001b[0mkey\u001b[0m\u001b[0;34m)\u001b[0m\u001b[0;34m\u001b[0m\u001b[0;34m\u001b[0m\u001b[0m\n\u001b[0;32m-> 1374\u001b[0;31m                 \u001b[0;32mraise\u001b[0m \u001b[0mKeyError\u001b[0m\u001b[0;34m(\u001b[0m\u001b[0;34mf\"None of [{key}] are in the [{axis_name}]\"\u001b[0m\u001b[0;34m)\u001b[0m\u001b[0;34m\u001b[0m\u001b[0;34m\u001b[0m\u001b[0m\n\u001b[0m\u001b[1;32m   1375\u001b[0m \u001b[0;34m\u001b[0m\u001b[0m\n\u001b[1;32m   1376\u001b[0m             \u001b[0mnot_found\u001b[0m \u001b[0;34m=\u001b[0m \u001b[0mlist\u001b[0m\u001b[0;34m(\u001b[0m\u001b[0mensure_index\u001b[0m\u001b[0;34m(\u001b[0m\u001b[0mkey\u001b[0m\u001b[0;34m)\u001b[0m\u001b[0;34m[\u001b[0m\u001b[0mmissing_mask\u001b[0m\u001b[0;34m.\u001b[0m\u001b[0mnonzero\u001b[0m\u001b[0;34m(\u001b[0m\u001b[0;34m)\u001b[0m\u001b[0;34m[\u001b[0m\u001b[0;36m0\u001b[0m\u001b[0;34m]\u001b[0m\u001b[0;34m]\u001b[0m\u001b[0;34m.\u001b[0m\u001b[0munique\u001b[0m\u001b[0;34m(\u001b[0m\u001b[0;34m)\u001b[0m\u001b[0;34m)\u001b[0m\u001b[0;34m\u001b[0m\u001b[0;34m\u001b[0m\u001b[0m\n",
            "\u001b[0;31mKeyError\u001b[0m: \"None of [Int64Index([20784, 6213, 8804, 2409, 25385], dtype='int64')] are in the [columns]\""
          ]
        }
      ]
    },
    {
      "cell_type": "code",
      "source": [
        "X_train, X_test, y_train, y_test = train_test_split(X_ms, y_ms, test_size=0.3)\n",
        "model = LogisticRegression()\n",
        "model.fit(X_train, y_train)\n",
        "lr_preds = model.predict(X_test)\n",
        "print('accuracy:', accuracy_score(y_test, lr_preds))\n",
        "print('f1 score:', f1_score(y_test, lr_preds))\n",
        "print('roc auc score:', roc_auc_score(y_test, lr_preds))"
      ],
      "metadata": {
        "id": "jS4RNMuZHIQT"
      },
      "execution_count": null,
      "outputs": []
    },
    {
      "cell_type": "markdown",
      "source": [
        "## UnderSampling"
      ],
      "metadata": {
        "id": "4Mj_yBtTDZbt"
      }
    },
    {
      "cell_type": "markdown",
      "source": [
        "### Random Under Sampling"
      ],
      "metadata": {
        "id": "QuvgJD65FofT"
      }
    },
    {
      "cell_type": "code",
      "source": [
        "# 높은 비중을 차지하는 클래스의 값들을 임의로 제거 - 유용한 데이터 삭제될 수 있고 편향된 데이터, 모집단 대표 X 등등\n",
        "from imblearn.under_sampling import RandomUnderSampler \n",
        "rus = RandomUnderSampler()\n",
        "X_res, y_res = rus.fit_resample(X_features, y_target)\n",
        "print('Before:', Counter(y_target))\n",
        "print('After:', Counter(y_res))"
      ],
      "metadata": {
        "colab": {
          "base_uri": "https://localhost:8080/"
        },
        "id": "jJqqPGgdDT-s",
        "outputId": "dbd74c9f-fb3a-492c-fa98-6d10f6e2ce52"
      },
      "execution_count": null,
      "outputs": [
        {
          "output_type": "stream",
          "name": "stdout",
          "text": [
            "Before: Counter({0: 274456, 1: 27261})\n",
            "After: Counter({0: 27261, 1: 27261})\n"
          ]
        }
      ]
    },
    {
      "cell_type": "code",
      "source": [
        "X_train, X_test, y_train, y_test = train_test_split(X_res, y_res, test_size=0.3)\n",
        "model = LogisticRegression()\n",
        "model.fit(X_train, y_train)\n",
        "lr_preds = model.predict(X_test)\n",
        "print('accuracy:', accuracy_score(y_test, lr_preds))\n",
        "print('f1 score:', f1_score(y_test, lr_preds))\n",
        "print('roc auc score:', roc_auc_score(y_test, lr_preds))"
      ],
      "metadata": {
        "colab": {
          "base_uri": "https://localhost:8080/"
        },
        "id": "dDqm3ciaIvLv",
        "outputId": "bbceaab4-e3c6-4e0f-d7be-4470a2d750c6"
      },
      "execution_count": null,
      "outputs": [
        {
          "output_type": "stream",
          "name": "stdout",
          "text": [
            "accuracy: 0.761142018707587\n",
            "f1 score: 0.7646243749623471\n",
            "roc auc score: 0.761398964396835\n"
          ]
        },
        {
          "output_type": "stream",
          "name": "stderr",
          "text": [
            "/usr/local/lib/python3.7/dist-packages/sklearn/linear_model/_logistic.py:818: ConvergenceWarning: lbfgs failed to converge (status=1):\n",
            "STOP: TOTAL NO. of ITERATIONS REACHED LIMIT.\n",
            "\n",
            "Increase the number of iterations (max_iter) or scale the data as shown in:\n",
            "    https://scikit-learn.org/stable/modules/preprocessing.html\n",
            "Please also refer to the documentation for alternative solver options:\n",
            "    https://scikit-learn.org/stable/modules/linear_model.html#logistic-regression\n",
            "  extra_warning_msg=_LOGISTIC_SOLVER_CONVERGENCE_MSG,\n"
          ]
        }
      ]
    },
    {
      "cell_type": "markdown",
      "source": [
        "### Tomek Links"
      ],
      "metadata": {
        "id": "8kTQD0npI1F9"
      }
    },
    {
      "cell_type": "code",
      "source": [
        "# 클래스가 다른 두 데이터가 아주 가까이 붙어있으면 토멕링크\n",
        "# 다수 클래스에 속하는 데이터를 제외하는 방법으로 경계선을 다수 클래스쪽으로 밀어붙이는 효과\n",
        "from imblearn.under_sampling import *\n",
        "tomek = TomekLinks()\n",
        "# majority, all\n",
        "X_tomek, y_tomek = tomek.fit_resample(X_features, y_target)"
      ],
      "metadata": {
        "colab": {
          "base_uri": "https://localhost:8080/"
        },
        "id": "on3RD5tCI1Qy",
        "outputId": "96d15bbc-063f-4896-97ed-f530556b8250"
      },
      "execution_count": null,
      "outputs": [
        {
          "output_type": "stream",
          "name": "stdout",
          "text": [
            "Before: Counter({0: 274456, 1: 27261})\n",
            "After: Counter({0: 27261, 1: 27261})\n"
          ]
        }
      ]
    },
    {
      "cell_type": "code",
      "source": [
        "X_train, X_test, y_train, y_test = train_test_split(X_tomek, y_tomek, test_size=0.3)\n",
        "model = LogisticRegression()\n",
        "model.fit(X_train, y_train)\n",
        "lr_preds = model.predict(X_test)\n",
        "print('accuracy:', accuracy_score(y_test, lr_preds))\n",
        "print('f1 score:', f1_score(y_test, lr_preds))\n",
        "print('roc auc score:', roc_auc_score(y_test, lr_preds))"
      ],
      "metadata": {
        "colab": {
          "base_uri": "https://localhost:8080/"
        },
        "id": "cgJ5po0uI1Tf",
        "outputId": "d4a4664d-80e2-41eb-ed8d-e8ee4c01b372"
      },
      "execution_count": null,
      "outputs": [
        {
          "output_type": "stream",
          "name": "stderr",
          "text": [
            "/usr/local/lib/python3.7/dist-packages/sklearn/linear_model/_logistic.py:818: ConvergenceWarning: lbfgs failed to converge (status=1):\n",
            "STOP: TOTAL NO. of ITERATIONS REACHED LIMIT.\n",
            "\n",
            "Increase the number of iterations (max_iter) or scale the data as shown in:\n",
            "    https://scikit-learn.org/stable/modules/preprocessing.html\n",
            "Please also refer to the documentation for alternative solver options:\n",
            "    https://scikit-learn.org/stable/modules/linear_model.html#logistic-regression\n",
            "  extra_warning_msg=_LOGISTIC_SOLVER_CONVERGENCE_MSG,\n"
          ]
        },
        {
          "output_type": "stream",
          "name": "stdout",
          "text": [
            "accuracy: 0.9086332574031891\n",
            "f1 score: 0.21598905394839718\n",
            "roc auc score: 0.5614366526364927\n"
          ]
        }
      ]
    },
    {
      "cell_type": "markdown",
      "source": [
        "### CNN(Condensed Nearest Neighbor)"
      ],
      "metadata": {
        "id": "3dAOdm3cI_s5"
      }
    },
    {
      "cell_type": "code",
      "source": [
        "# 1-NN 모형으로 분류되지 않는 데이터만 남기는 방법\n",
        "cnn = CondensedNearestNeighbour()\n",
        "X_cnn, y_cnn = cnn.fit_resample(X_features, y_target)\n",
        "print('Before:', Counter(y_target))\n",
        "print('After:', Counter(y_cnn))\n",
        "print(cnn.estimator_)"
      ],
      "metadata": {
        "id": "QfKlOdKdI_1Q"
      },
      "execution_count": null,
      "outputs": []
    },
    {
      "cell_type": "code",
      "source": [
        "X_train, X_test, y_train, y_test = train_test_split(X_cnn, y_cnn, test_size=0.3)\n",
        "model = LogisticRegression()\n",
        "model.fit(X_train, y_train)\n",
        "lr_preds = model.predict(X_test)\n",
        "print('accuracy:', accuracy_score(y_test, lr_preds))\n",
        "print('f1 score:', f1_score(y_test, lr_preds))\n",
        "print('roc auc score:', roc_auc_score(y_test, lr_preds))"
      ],
      "metadata": {
        "id": "NY9JbCUoI_BD"
      },
      "execution_count": null,
      "outputs": []
    },
    {
      "cell_type": "markdown",
      "source": [
        "### OSS(One-side Selection)"
      ],
      "metadata": {
        "id": "V9YmsxF3JAYY"
      }
    },
    {
      "cell_type": "code",
      "source": [
        "# Tomek links 와 CNN을 같이 수행하는 방식\n",
        "oss = OneSidedSelection()\n",
        "X_oss, y_oss = oss.fit_resample(X_features, y_target)\n",
        "print('Before:', Counter(y_target))\n",
        "print('After:', Counter(y_oss))\n",
        "print(oss.estimator_)"
      ],
      "metadata": {
        "id": "-YCzrblic84x"
      },
      "execution_count": null,
      "outputs": []
    },
    {
      "cell_type": "markdown",
      "source": [
        "Before: Counter({0: 274456, 1: 27261})  \n",
        "After: Counter({0: 265385, 1: 27261})  \n",
        "KNeighborsClassifier(n_neighbors=1)  "
      ],
      "metadata": {
        "id": "a5RlIaB2fi1T"
      }
    },
    {
      "cell_type": "code",
      "source": [
        "X_train, X_test, y_train, y_test = train_test_split(X_oss, y_oss, test_size=0.3)\n",
        "model = LogisticRegression()\n",
        "model.fit(X_train, y_train)\n",
        "lr_preds = model.predict(X_test)\n",
        "print('accuracy:', accuracy_score(y_test, lr_preds))\n",
        "print('f1 score:', f1_score(y_test, lr_preds))\n",
        "print('roc auc score:', roc_auc_score(y_test, lr_preds))"
      ],
      "metadata": {
        "id": "ENt6NRJ5c9HO"
      },
      "execution_count": null,
      "outputs": []
    },
    {
      "cell_type": "markdown",
      "source": [
        "accuracy: 0.9097432626375379  \n",
        "f1 score: 0.2246575342465754  \n",
        "roc auc score: 0.564670590913748  "
      ],
      "metadata": {
        "id": "5paBQ1Qpfkab"
      }
    },
    {
      "cell_type": "markdown",
      "source": [
        "### Edited Nearest Neighbours"
      ],
      "metadata": {
        "id": "cwG46qvmQefV"
      }
    },
    {
      "cell_type": "code",
      "source": [
        "# 다수 클래스 데이터 중 가장 가까운 k(n_neighbors)개의 데이터가 모두(kind_sel=\"all\") 또는 다수(kind_sel=\"mode\") 다수 클래스가 아니면 삭제하는 방법\n",
        "# 소수 클래스 주변의 다수 클래스 데이터는 사라짐\n",
        "enn = EditedNearestNeighbours()\n",
        "X_res, y_res = enn.fit_resample(X_features, y_target)\n",
        "\n",
        "print('Before:', Counter(y_target))\n",
        "print('After:', Counter(y_res))\n",
        "print(enn.nn_)"
      ],
      "metadata": {
        "id": "XXqoM82BQepu"
      },
      "execution_count": null,
      "outputs": []
    },
    {
      "cell_type": "markdown",
      "source": [
        "Before: Counter({0: 274456, 1: 27261})  \n",
        "After: Counter({0: 225788, 1: 27261})  \n",
        "NearestNeighbors(n_neighbors=4)  "
      ],
      "metadata": {
        "id": "YgFNy-nDfo-t"
      }
    },
    {
      "cell_type": "code",
      "source": [
        "X_train, X_test, y_train, y_test = train_test_split(X_res, y_res, test_size=0.3)\n",
        "model = LogisticRegression()\n",
        "model.fit(X_train, y_train)\n",
        "lr_preds = model.predict(X_test)\n",
        "print('accuracy:', accuracy_score(y_test, lr_preds))\n",
        "print('f1 score:', f1_score(y_test, lr_preds))\n",
        "print('roc auc score:', roc_auc_score(y_test, lr_preds))"
      ],
      "metadata": {
        "id": "UDf9qEuPQesN"
      },
      "execution_count": null,
      "outputs": []
    },
    {
      "cell_type": "markdown",
      "source": [
        "accuracy: 0.9102944082197194  \n",
        "f1 score: 0.4576298184135075  \n",
        "roc auc score: 0.664545051465775  "
      ],
      "metadata": {
        "id": "BjRcbWkwfrS0"
      }
    },
    {
      "cell_type": "markdown",
      "source": [
        "### Neighbourhood Cleaning Rule"
      ],
      "metadata": {
        "id": "e2Vo0Ki-Qezx"
      }
    },
    {
      "cell_type": "code",
      "source": [
        "# CNN(Condensed Nearest Neighbour)과 ENN(Edited Nearest Neighbours) 같이 수행\n",
        "ncr = NeighbourhoodCleaningRule()\n",
        "X_res, y_res = ncr.fit_resample(X_features, y_target)\n",
        "\n",
        "print('Before:', Counter(y_target))\n",
        "print('After:', Counter(y_res))\n",
        "print(ncr.nn_)"
      ],
      "metadata": {
        "id": "K2jhH7b9Qe74"
      },
      "execution_count": null,
      "outputs": []
    },
    {
      "cell_type": "code",
      "source": [
        "X_train, X_test, y_train, y_test = train_test_split(X_res, y_res, test_size=0.3)\n",
        "model = LogisticRegression()\n",
        "model.fit(X_train, y_train)\n",
        "lr_preds = model.predict(X_test)\n",
        "print('accuracy:', accuracy_score(y_test, lr_preds))\n",
        "print('f1 score:', f1_score(y_test, lr_preds))\n",
        "print('roc auc score:', roc_auc_score(y_test, lr_preds))"
      ],
      "metadata": {
        "id": "bYx0h9mQQe-C"
      },
      "execution_count": null,
      "outputs": []
    },
    {
      "cell_type": "markdown",
      "source": [
        "이 외에도 RepeatedEditedNearestNeighbours, AllKNN, InstanceHardnessThreshold 등이 존재함.  \n",
        "https://imbalanced-learn.org/stable/references/under_sampling.html"
      ],
      "metadata": {
        "id": "FfNQsvmrRR8y"
      }
    },
    {
      "cell_type": "markdown",
      "source": [
        "## 복합 방식"
      ],
      "metadata": {
        "id": "YB8SrUg5Fdb8"
      }
    },
    {
      "cell_type": "markdown",
      "source": [
        "### SMOTE-Tomek"
      ],
      "metadata": {
        "id": "eZaJfbpNFiRL"
      }
    },
    {
      "cell_type": "code",
      "source": [
        "from sklearn.linear_model import LogisticRegression\n",
        "from sklearn.model_selection import train_test_split\n",
        "from sklearn.linear_model import LogisticRegression\n",
        "from sklearn.metrics import accuracy_score, roc_auc_score, f1_score\n",
        "from collections import Counter"
      ],
      "metadata": {
        "id": "F-RqAPVSJRhS"
      },
      "execution_count": null,
      "outputs": []
    },
    {
      "cell_type": "code",
      "source": [
        "from imblearn.combine import SMOTETomek\n",
        "\n",
        "smote_tomek = SMOTETomek()\n",
        "X_res, y_res = smote_tomek.fit_resample(X_features, y_target)\n",
        "\n",
        "print('Before:', Counter(y_target))\n",
        "print('After:', Counter(y_res))\n",
        "print(smote_tomek.smote_)\n",
        "print(smote_tomek.tomek_)"
      ],
      "metadata": {
        "id": "R9tUdJ4-Ff1k",
        "colab": {
          "base_uri": "https://localhost:8080/"
        },
        "outputId": "6bd80128-afca-415d-b7d3-27b1264df4ae"
      },
      "execution_count": null,
      "outputs": [
        {
          "output_type": "stream",
          "name": "stdout",
          "text": [
            "Before: Counter({0: 274456, 1: 27261})\n",
            "After: Counter({0: 267518, 1: 267518})\n",
            "SMOTE()\n",
            "TomekLinks(sampling_strategy='all')\n"
          ]
        }
      ]
    },
    {
      "cell_type": "code",
      "source": [
        "X_train, X_test, y_train, y_test = train_test_split(X_res, y_res, test_size=0.3)\n",
        "model = LogisticRegression()\n",
        "model.fit(X_train, y_train)\n",
        "lr_preds = model.predict(X_test)\n",
        "print('accuracy:', accuracy_score(y_test, lr_preds))\n",
        "print('f1 score:', f1_score(y_test, lr_preds))\n",
        "print('roc auc score:', roc_auc_score(y_test, lr_preds))"
      ],
      "metadata": {
        "id": "3Cw82sRkUd4l",
        "colab": {
          "base_uri": "https://localhost:8080/"
        },
        "outputId": "00e95a2b-5c58-4dfc-e4b3-d89fdd1e1451"
      },
      "execution_count": null,
      "outputs": [
        {
          "output_type": "stream",
          "name": "stderr",
          "text": [
            "/usr/local/lib/python3.7/dist-packages/sklearn/linear_model/_logistic.py:818: ConvergenceWarning: lbfgs failed to converge (status=1):\n",
            "STOP: TOTAL NO. of ITERATIONS REACHED LIMIT.\n",
            "\n",
            "Increase the number of iterations (max_iter) or scale the data as shown in:\n",
            "    https://scikit-learn.org/stable/modules/preprocessing.html\n",
            "Please also refer to the documentation for alternative solver options:\n",
            "    https://scikit-learn.org/stable/modules/linear_model.html#logistic-regression\n",
            "  extra_warning_msg=_LOGISTIC_SOLVER_CONVERGENCE_MSG,\n"
          ]
        },
        {
          "output_type": "stream",
          "name": "stdout",
          "text": [
            "accuracy: 0.7794481375108248\n",
            "f1 score: 0.7878871399725579\n",
            "roc auc score: 0.7794478896737344\n"
          ]
        }
      ]
    },
    {
      "cell_type": "markdown",
      "source": [
        "### SMOTEENN"
      ],
      "metadata": {
        "id": "isSwFcqdQHV4"
      }
    },
    {
      "cell_type": "code",
      "source": [
        "from imblearn.combine import SMOTEENN\n",
        "\n",
        "smoteenn = SMOTEENN()\n",
        "X_res, y_res = smoteenn.fit_resample(X_features, y_target)\n",
        "\n",
        "print('Before:', Counter(y_target))\n",
        "print('After:', Counter(y_res))\n",
        "print(smoteenn.smote_)\n",
        "print(smoteenn.enn_)"
      ],
      "metadata": {
        "id": "ZSM5myfVQFWi",
        "colab": {
          "base_uri": "https://localhost:8080/"
        },
        "outputId": "9ad8e1cd-0107-4846-80e5-06da8a774750"
      },
      "execution_count": null,
      "outputs": [
        {
          "output_type": "stream",
          "name": "stdout",
          "text": [
            "Before: Counter({0: 274456, 1: 27261})\n",
            "After: Counter({1: 234789, 0: 201849})\n",
            "SMOTE()\n",
            "EditedNearestNeighbours(sampling_strategy='all')\n"
          ]
        }
      ]
    },
    {
      "cell_type": "code",
      "source": [
        "X_train, X_test, y_train, y_test = train_test_split(X_res, y_res, test_size=0.3)\n",
        "model = LogisticRegression()\n",
        "model.fit(X_train, y_train)\n",
        "lr_preds = model.predict(X_test)\n",
        "print('accuracy:', accuracy_score(y_test, lr_preds))\n",
        "print('f1 score:', f1_score(y_test, lr_preds))\n",
        "print('roc auc score:', roc_auc_score(y_test, lr_preds))"
      ],
      "metadata": {
        "id": "WN9HxBJrUejc",
        "colab": {
          "base_uri": "https://localhost:8080/"
        },
        "outputId": "522a3e83-ab86-462c-99ec-3f57206f66c0"
      },
      "execution_count": null,
      "outputs": [
        {
          "output_type": "stream",
          "name": "stderr",
          "text": [
            "/usr/local/lib/python3.7/dist-packages/sklearn/linear_model/_logistic.py:818: ConvergenceWarning: lbfgs failed to converge (status=1):\n",
            "STOP: TOTAL NO. of ITERATIONS REACHED LIMIT.\n",
            "\n",
            "Increase the number of iterations (max_iter) or scale the data as shown in:\n",
            "    https://scikit-learn.org/stable/modules/preprocessing.html\n",
            "Please also refer to the documentation for alternative solver options:\n",
            "    https://scikit-learn.org/stable/modules/linear_model.html#logistic-regression\n",
            "  extra_warning_msg=_LOGISTIC_SOLVER_CONVERGENCE_MSG,\n"
          ]
        },
        {
          "output_type": "stream",
          "name": "stdout",
          "text": [
            "accuracy: 0.8479220105044583\n",
            "f1 score: 0.8601416766710898\n",
            "roc auc score: 0.8460646743726089\n"
          ]
        }
      ]
    },
    {
      "cell_type": "markdown",
      "source": [
        "#### SMOTEENN 전 데이터"
      ],
      "metadata": {
        "id": "PlNOsc8qfNnd"
      }
    },
    {
      "cell_type": "code",
      "source": [
        "from sklearn.decomposition import PCA\n",
        "import seaborn as sns\n",
        "\n",
        "pca = PCA(n_components=2)\n",
        "pca.fit(X_features)\n",
        "X_pca = pca.transform(X_features)\n",
        "\n",
        "pca_df = pd.DataFrame(X_pca, columns=['pca_1', 'pca_2'])\n",
        "pca_df['target'] = y_target\n",
        "\n",
        "sns.scatterplot(x='pca_1', y='pca_2', hue='target', data=pca_df)"
      ],
      "metadata": {
        "id": "oi2_UpIiPJOk"
      },
      "execution_count": null,
      "outputs": []
    },
    {
      "cell_type": "markdown",
      "source": [
        "#### SMOTEENN 후 데이터"
      ],
      "metadata": {
        "id": "jnvnxZIhfR3t"
      }
    },
    {
      "cell_type": "code",
      "source": [
        "pca = PCA(n_components=2)\n",
        "pca.fit(X_res)\n",
        "X_pca = pca.transform(X_res)\n",
        "\n",
        "pca_df = pd.DataFrame(X_pca, columns=['pca_1', 'pca_2'])\n",
        "pca_df['target'] = y_res\n",
        "\n",
        "sns.scatterplot(x='pca_1', y='pca_2', hue='target', data=pca_df)"
      ],
      "metadata": {
        "id": "9AfZY6g0fM3_"
      },
      "execution_count": null,
      "outputs": []
    }
  ]
}